{
  "nbformat": 4,
  "nbformat_minor": 0,
  "metadata": {
    "colab": {
      "name": "Task6.ipynb",
      "provenance": []
    },
    "kernelspec": {
      "name": "python3",
      "display_name": "Python 3"
    },
    "language_info": {
      "name": "python"
    }
  },
  "cells": [
    {
      "cell_type": "code",
      "metadata": {
        "id": "vURtytAmyaLa"
      },
      "source": [
        "import numpy as np\n",
        "import random\n",
        "import networkx as nx\n",
        "import time\n",
        "from pprint import pprint\n",
        "import pandas as pd\n",
        "from random import randint\n",
        "from collections import deque"
      ],
      "execution_count": 9,
      "outputs": []
    },
    {
      "cell_type": "code",
      "metadata": {
        "id": "SPUHSeycyqYL"
      },
      "source": [
        "#Task 1\n",
        "N = 100 # Vertices\n",
        "M = 500 # Edges\n",
        "execution_count = 10"
      ],
      "execution_count": 4,
      "outputs": []
    },
    {
      "cell_type": "code",
      "metadata": {
        "id": "m8P_IEm05bVv"
      },
      "source": [
        "graph = nx.generators.random_graphs.gnm_random_graph(N, M)\n",
        "\n",
        "for edge in graph.edges():\n",
        "    graph[edge[0]][edge[1]]['weight'] = np.random.randint(1, 50)"
      ],
      "execution_count": 12,
      "outputs": []
    },
    {
      "cell_type": "code",
      "metadata": {
        "id": "dkH7RE8w--Ew"
      },
      "source": [
        "def get_average_execution_time(function, execution_count, starting_node):\n",
        "  average_time = 0\n",
        "  for i in range(execution_count):\n",
        "    start_time = time.time()\n",
        "    for node in graph.nodes:\n",
        "      function(graph, starting_node, node, weight='weight')\n",
        "    end_time = time.time()\n",
        "    average_time += end_time - start_time \n",
        "  return average_time / execution_count, function.__name__"
      ],
      "execution_count": 46,
      "outputs": []
    },
    {
      "cell_type": "code",
      "metadata": {
        "colab": {
          "base_uri": "https://localhost:8080/"
        },
        "id": "UJXTL_eR6lFb",
        "outputId": "f99e6a47-a17f-4791-b48b-638ce951fdd5"
      },
      "source": [
        "starting_node = np.random.randint(0, 100)\n",
        "print(\"Start node is \", starting_node)\n",
        "\n",
        "print(get_average_execution_time(nx.dijkstra_path, execution_count, starting_node))\n",
        "print(get_average_execution_time(nx.bellman_ford_path, execution_count, starting_node))\n"
      ],
      "execution_count": 47,
      "outputs": [
        {
          "output_type": "stream",
          "name": "stdout",
          "text": [
            "Start node is  51\n",
            "(0.04477169513702393, 'dijkstra_path')\n",
            "(0.23494811058044435, 'bellman_ford_path')\n"
          ]
        }
      ]
    },
    {
      "cell_type": "code",
      "metadata": {
        "colab": {
          "base_uri": "https://localhost:8080/"
        },
        "id": "iWYT6sgUMRlK",
        "outputId": "2c6efd11-fd13-4dd8-97b9-5d0c14f35367"
      },
      "source": [
        "print(0.23494811058044435 / 0.04477169513702393)"
      ],
      "execution_count": 1,
      "outputs": [
        {
          "output_type": "stream",
          "name": "stdout",
          "text": [
            "5.247692986861115\n"
          ]
        }
      ]
    },
    {
      "cell_type": "code",
      "metadata": {
        "id": "fppiIrt4c-8-"
      },
      "source": [
        "#Task 2\n",
        "grid = nx.generators.lattice.grid_graph(dim=[range(10), range(20)])\n",
        "nodes_to_del = [(node // 10, node % 10) for node in np.random.choice(10 * 20, 40)]\n",
        "grid.remove_nodes_from(nodes_to_del)"
      ],
      "execution_count": 16,
      "outputs": []
    },
    {
      "cell_type": "code",
      "metadata": {
        "colab": {
          "base_uri": "https://localhost:8080/",
          "height": 204
        },
        "id": "VCbC7TAzd_bR",
        "outputId": "5b376ad4-1f26-47fa-ea7e-6bb0fc95c1d6"
      },
      "source": [
        "result_frame = pd.DataFrame({'Start node': [], 'End node' : [], 'Time': []})\n",
        "execution_count = 5\n",
        "for n in range(N_EXPERIMENTS):\n",
        "    i1, i2 = random.sample(range(len(grid.nodes)), 2)\n",
        "    node1, node2 = np.array(grid.nodes)[i1], np.array(grid.nodes)[i2]\n",
        "    \n",
        "    start_time = time.time()\n",
        "    path = nx.astar_path(grid, tuple(node1), tuple(node2))\n",
        "    end_time = time.time()\n",
        "    \n",
        "    t = end_time - start_time\n",
        "    result_frame = result_frame.append({'Start node': node1,'End node' : node2,'Time': t}, ignore_index=True)\n",
        "result_frame"
      ],
      "execution_count": 17,
      "outputs": [
        {
          "output_type": "execute_result",
          "data": {
            "text/html": [
              "<div>\n",
              "<style scoped>\n",
              "    .dataframe tbody tr th:only-of-type {\n",
              "        vertical-align: middle;\n",
              "    }\n",
              "\n",
              "    .dataframe tbody tr th {\n",
              "        vertical-align: top;\n",
              "    }\n",
              "\n",
              "    .dataframe thead th {\n",
              "        text-align: right;\n",
              "    }\n",
              "</style>\n",
              "<table border=\"1\" class=\"dataframe\">\n",
              "  <thead>\n",
              "    <tr style=\"text-align: right;\">\n",
              "      <th></th>\n",
              "      <th>Start node</th>\n",
              "      <th>End node</th>\n",
              "      <th>Time</th>\n",
              "    </tr>\n",
              "  </thead>\n",
              "  <tbody>\n",
              "    <tr>\n",
              "      <th>0</th>\n",
              "      <td>[13, 4]</td>\n",
              "      <td>[8, 3]</td>\n",
              "      <td>0.000494</td>\n",
              "    </tr>\n",
              "    <tr>\n",
              "      <th>1</th>\n",
              "      <td>[5, 0]</td>\n",
              "      <td>[14, 3]</td>\n",
              "      <td>0.000828</td>\n",
              "    </tr>\n",
              "    <tr>\n",
              "      <th>2</th>\n",
              "      <td>[9, 6]</td>\n",
              "      <td>[13, 7]</td>\n",
              "      <td>0.000545</td>\n",
              "    </tr>\n",
              "    <tr>\n",
              "      <th>3</th>\n",
              "      <td>[0, 6]</td>\n",
              "      <td>[19, 2]</td>\n",
              "      <td>0.001096</td>\n",
              "    </tr>\n",
              "    <tr>\n",
              "      <th>4</th>\n",
              "      <td>[10, 1]</td>\n",
              "      <td>[12, 6]</td>\n",
              "      <td>0.000495</td>\n",
              "    </tr>\n",
              "  </tbody>\n",
              "</table>\n",
              "</div>"
            ],
            "text/plain": [
              "  Start node End node      Time\n",
              "0    [13, 4]   [8, 3]  0.000494\n",
              "1     [5, 0]  [14, 3]  0.000828\n",
              "2     [9, 6]  [13, 7]  0.000545\n",
              "3     [0, 6]  [19, 2]  0.001096\n",
              "4    [10, 1]  [12, 6]  0.000495"
            ]
          },
          "metadata": {},
          "execution_count": 17
        }
      ]
    },
    {
      "cell_type": "code",
      "metadata": {
        "colab": {
          "base_uri": "https://localhost:8080/"
        },
        "id": "rwcbwdWAeB-l",
        "outputId": "cc1d8b9e-643f-4a89-9082-8cc2828328d0"
      },
      "source": [
        "print(\"Average time is \" + str(df['Time'].mean()))"
      ],
      "execution_count": 19,
      "outputs": [
        {
          "output_type": "stream",
          "name": "stdout",
          "text": [
            "Average time is 0.0007683277130126953\n"
          ]
        }
      ]
    }
  ]
}